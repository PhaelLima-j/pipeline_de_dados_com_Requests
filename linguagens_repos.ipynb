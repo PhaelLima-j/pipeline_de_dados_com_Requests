{
 "cells": [
  {
   "cell_type": "markdown",
   "id": "fff28750",
   "metadata": {},
   "source": [
    "# Conhecendo a Requests"
   ]
  },
  {
   "cell_type": "markdown",
   "id": "9587226b",
   "metadata": {},
   "source": [
    "## Primeira requisicao"
   ]
  },
  {
   "cell_type": "code",
   "execution_count": 1,
   "id": "c4f4dcff",
   "metadata": {},
   "outputs": [],
   "source": [
    "import requests"
   ]
  },
  {
   "cell_type": "code",
   "execution_count": null,
   "id": "4669fee4",
   "metadata": {},
   "outputs": [],
   "source": [
    "r = requests.get('https://api.github.com/events')"
   ]
  }
 ],
 "metadata": {
  "kernelspec": {
   "display_name": "venv",
   "language": "python",
   "name": "python3"
  },
  "language_info": {
   "codemirror_mode": {
    "name": "ipython",
    "version": 3
   },
   "file_extension": ".py",
   "mimetype": "text/x-python",
   "name": "python",
   "nbconvert_exporter": "python",
   "pygments_lexer": "ipython3",
   "version": "3.10.17"
  }
 },
 "nbformat": 4,
 "nbformat_minor": 5
}
